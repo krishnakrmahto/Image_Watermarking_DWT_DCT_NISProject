{
 "cells": [
  {
   "cell_type": "code",
   "execution_count": 1,
   "metadata": {},
   "outputs": [],
   "source": [
    "import numpy as np\n",
    "import pywt\n",
    "import os\n",
    "from PIL import Image\n",
    "from scipy.fftpack import dct\n",
    "from scipy.fftpack import idct"
   ]
  },
  {
   "cell_type": "code",
   "execution_count": 2,
   "metadata": {},
   "outputs": [],
   "source": [
    "image = 'image.png'\n",
    "watermark = 'watermark2.png'"
   ]
  },
  {
   "cell_type": "code",
   "execution_count": 3,
   "metadata": {},
   "outputs": [],
   "source": [
    "def convert_image(image_name, size):\n",
    "    with open('log/function_calls.txt', 'a') as logfile:\n",
    "        logfile.write('convert_image\\n')\n",
    "    \n",
    "    # open image returns image object. resize(required_size_in_tuple), resampling_factor)\n",
    "    img = Image.open('./pictures/' + image_name).resize((size, size), 1)\n",
    "    # img.covert('L') returns grayscale image -- 'L' is for grayscale\n",
    "    img = img.convert('L')\n",
    "    img.save('./dataset/' + image_name)\n",
    "\n",
    "\n",
    "    image_array = np.array(img.getdata(), dtype=np.float).reshape((size, size))\n",
    "#     print(image_array.shape)\n",
    "#     print(image_array[0][0])\n",
    "#     print(image_array[10][10])\n",
    "\n",
    "    return image_array"
   ]
  },
  {
   "cell_type": "code",
   "execution_count": 4,
   "metadata": {},
   "outputs": [],
   "source": [
    "def apply_dwt(imArray, model, level):\n",
    "    with open('./log/function_calls.txt', 'a') as logfile:\n",
    "        logfile.write('apply_dwt\\n')\n",
    "    dwt_coefficients=pywt.wavedec2(data = imArray, wavelet = model, level = level)\n",
    "    # print(coeffs[0].__len__())\n",
    "\n",
    "    return dwt_coefficients"
   ]
  },
  {
   "cell_type": "code",
   "execution_count": 5,
   "metadata": {},
   "outputs": [],
   "source": [
    "def embed_watermark(watermark_array, transformed_image):\n",
    "    with open('./log/function_calls.txt', 'a') as logfile:\n",
    "        logfile.write('embed_watermark\\n')\n",
    "    watermark_array_size = watermark_array[0].__len__()\n",
    "    watermark_flat = watermark_array.ravel()\n",
    "    ind = 0\n",
    "\n",
    "    for x in range (0, transformed_image.__len__(), 8):\n",
    "        for y in range (0, transformed_image.__len__(), 8):\n",
    "            if ind < watermark_flat.__len__():\n",
    "                subdct = transformed_image[x:x+8, y:y+8]\n",
    "                subdct[5][5] = watermark_flat[ind]\n",
    "                transformed_image[x:x+8, y:y+8] = subdct\n",
    "                ind += 1\n",
    "\n",
    "    return transformed_image"
   ]
  },
  {
   "cell_type": "code",
   "execution_count": 6,
   "metadata": {},
   "outputs": [],
   "source": [
    "def apply_dct(image_array):\n",
    "    with open('./log/function_calls.txt', 'a') as logfile:\n",
    "        logfile.write('apply_dct\\n')\n",
    "    size = image_array[0].__len__()\n",
    "    dct_coefficients = np.empty((size, size))\n",
    "    for i in range (0, size, 8):\n",
    "        for j in range (0, size, 8):\n",
    "            subpixels = image_array[i:i+8, j:j+8]\n",
    "            subdct = dct(dct(subpixels.T, norm=\"ortho\").T, norm=\"ortho\")\n",
    "            dct_coefficients[i:i+8, j:j+8] = subdct\n",
    "\n",
    "    return dct_coefficients"
   ]
  },
  {
   "cell_type": "code",
   "execution_count": 7,
   "metadata": {},
   "outputs": [],
   "source": [
    "def inverse_dct(dct_image):\n",
    "    with open('./log/function_calls.txt', 'a') as logfile:\n",
    "        logfile.write('inverse_dct\\n')\n",
    "    size = dct_image[0].__len__()\n",
    "    idct_image = np.empty((size, size))\n",
    "    for i in range (0, size, 8):\n",
    "        for j in range (0, size, 8):\n",
    "            subidct = idct(idct(dct_image[i:i+8, j:j+8].T, norm=\"ortho\").T, norm=\"ortho\")\n",
    "            idct_image[i:i+8, j:j+8] = subidct\n",
    "\n",
    "    return idct_image"
   ]
  },
  {
   "cell_type": "code",
   "execution_count": 8,
   "metadata": {},
   "outputs": [],
   "source": [
    "def get_watermark(dct_watermarked_coeff, watermark_size):\n",
    "\n",
    "    # print(\"kya\", dct_watermarked_coeff.shape)\n",
    "\n",
    "    with open('./log/function_calls.txt', 'a') as logfile:\n",
    "        logfile.write('get_watermark\\n')\n",
    "\n",
    "    subwatermarks = []\n",
    "\n",
    "    for x in range (0, dct_watermarked_coeff.__len__(), 8):\n",
    "        for y in range (0, dct_watermarked_coeff.__len__(), 8):\n",
    "            coeff_slice = dct_watermarked_coeff[x:x+8, y:y+8]\n",
    "            subwatermarks.append(coeff_slice[5][5])\n",
    "\n",
    "    watermark = np.array(subwatermarks).reshape(watermark_size, watermark_size)\n",
    "\n",
    "    return watermark"
   ]
  },
  {
   "cell_type": "code",
   "execution_count": 9,
   "metadata": {},
   "outputs": [],
   "source": [
    "def recover_watermark(image_array, model='haar', level = 1):\n",
    "    with open('./log/function_calls.txt', 'a') as logfile:\n",
    "        logfile.write('recover_watermark\\n')\n",
    "\n",
    "    coeffs_watermarked_image = apply_dwt(image_array, model, level=level)\n",
    "    coeffs_watermarked_image2 = apply_dwt(coeffs_watermarked_image[0], model, level=level)\n",
    "    dct_watermarked_coeff = apply_dct(coeffs_watermarked_image2[0])\n",
    "\n",
    "    watermark_array = get_watermark(dct_watermarked_coeff, 64)\n",
    "\n",
    "    watermark_array =  np.uint8(watermark_array)\n",
    "\n",
    "#Save result\n",
    "    img = Image.fromarray(watermark_array)\n",
    "    img.save('./result/recovered_watermark.jpg')"
   ]
  },
  {
   "cell_type": "code",
   "execution_count": 10,
   "metadata": {},
   "outputs": [],
   "source": [
    "def print_image_from_array(image_array, name):\n",
    "\n",
    "    with open('./log/function_calls.txt', 'a') as logfile:\n",
    "        logfile.write('print_image_from_array\\n')\n",
    "\n",
    "    image_array_copy = image_array.clip(0, 255)\n",
    "    image_array_copy = image_array_copy.astype(\"uint8\")\n",
    "    img = Image.fromarray(image_array_copy)\n",
    "    img.save('./result/' + name)"
   ]
  },
  {
   "cell_type": "code",
   "execution_count": 11,
   "metadata": {},
   "outputs": [],
   "source": [
    "import matplotlib.pyplot as plt\n",
    "\n",
    "def print_dwt_images(coeffs_image):\n",
    "\n",
    "    ll = coeffs_image[0]\n",
    "    lh = coeffs_image[1][0]\n",
    "    hl = coeffs_image[1][1]\n",
    "    hh = coeffs_image[1][2]\n",
    "    \n",
    "#     print(type(coeffs_image[1]), \"hdsa\", len(coeffs_image[1][0]))\n",
    "    \n",
    "    ll_img = Image.fromarray(ll)\n",
    "    lh_img = Image.fromarray(lh)\n",
    "    hl_img = Image.fromarray(hl)\n",
    "    hh_img = Image.fromarray(hh)\n",
    "    \n",
    "    \n",
    "    plt.subplot(2,2,1)\n",
    "    plt.imshow(ll_img)\n",
    "    \n",
    "    plt.subplot(2,2,2)\n",
    "    plt.imshow(lh_img)\n",
    "    \n",
    "    plt.subplot(2,2,3)\n",
    "    plt.imshow(hl_img)\n",
    "    \n",
    "    plt.subplot(2,2,4)\n",
    "    plt.imshow(hh_img)\n",
    "    \n",
    "    plt.show()"
   ]
  },
  {
   "cell_type": "code",
   "execution_count": 12,
   "metadata": {},
   "outputs": [],
   "source": [
    "def print_dct_image(dct_array):\n",
    "    \n",
    "    plt.imshow(dct_array)\n",
    "    plt.show()"
   ]
  },
  {
   "cell_type": "code",
   "execution_count": 13,
   "metadata": {},
   "outputs": [],
   "source": [
    "def watermarker():\n",
    "    with open('./log/function_calls.txt', 'w') as logfile:\n",
    "        logfile.write('watermarker\\n')\n",
    "    wavelet_type = 'haar'\n",
    "    level = 1\n",
    "    image_array = convert_image(image, 2048) # return grayscale of size 2048*2048\n",
    "    watermark_array = convert_image(watermark, 64) # return grayscale of size 64*64\n",
    "\n",
    "    dwt_image = apply_dwt(image_array, wavelet_type, level=level)\n",
    "    \n",
    "    dwt_image2 = apply_dwt(dwt_image[0],wavelet_type, level=level)\n",
    "    dct_image = apply_dct(dwt_image2[0]) # returns dct of entire image\n",
    "    # print(\"bhag\", len(dwt_image2[0]))\n",
    "    dct_image = embed_watermark(watermark_array, dct_image)\n",
    "    dwt_image2[0] = inverse_dct(dct_image)\n",
    "\n",
    "\n",
    "# construct the watermarked image\n",
    "    idwt_image2 = pywt.waverec2(dwt_image2, wavelet_type)\n",
    "    dwt_image[0] = idwt_image2\n",
    "    idwt_image = pywt.waverec2(dwt_image, wavelet_type)\n",
    "    print_image_from_array(idwt_image, 'image_with_watermark.jpg')\n",
    "\n",
    "# recover images\n",
    "    # print(\"bhai\", idwt_image.shape)\n",
    "    recover_watermark(image_array = idwt_image, model=wavelet_type, level = level)"
   ]
  },
  {
   "cell_type": "code",
   "execution_count": 14,
   "metadata": {},
   "outputs": [],
   "source": [
    "if __name__ == '__main__':\n",
    "    watermarker()"
   ]
  },
  {
   "cell_type": "code",
   "execution_count": null,
   "metadata": {},
   "outputs": [],
   "source": []
  }
 ],
 "metadata": {
  "kernelspec": {
   "display_name": "Python 3",
   "language": "python",
   "name": "python3"
  },
  "language_info": {
   "codemirror_mode": {
    "name": "ipython",
    "version": 3
   },
   "file_extension": ".py",
   "mimetype": "text/x-python",
   "name": "python",
   "nbconvert_exporter": "python",
   "pygments_lexer": "ipython3",
   "version": "3.6.5"
  },
  "varInspector": {
   "cols": {
    "lenName": 16,
    "lenType": 16,
    "lenVar": 40
   },
   "kernels_config": {
    "python": {
     "delete_cmd_postfix": "",
     "delete_cmd_prefix": "del ",
     "library": "var_list.py",
     "varRefreshCmd": "print(var_dic_list())"
    },
    "r": {
     "delete_cmd_postfix": ") ",
     "delete_cmd_prefix": "rm(",
     "library": "var_list.r",
     "varRefreshCmd": "cat(var_dic_list()) "
    }
   },
   "position": {
    "height": "230px",
    "left": "1095.56px",
    "right": "20px",
    "top": "120px",
    "width": "353px"
   },
   "types_to_exclude": [
    "module",
    "function",
    "builtin_function_or_method",
    "instance",
    "_Feature"
   ],
   "window_display": false
  }
 },
 "nbformat": 4,
 "nbformat_minor": 2
}
